{
 "cells": [
  {
   "cell_type": "markdown",
   "id": "168b8135",
   "metadata": {},
   "source": [
    "# Librerias y estructuras necesarias para nuestro proyecto"
   ]
  },
  {
   "cell_type": "code",
   "execution_count": 3,
   "id": "0819e8e3",
   "metadata": {},
   "outputs": [],
   "source": [
    "import os\n",
    "import glob \n",
    "from IPython.display import Image, display"
   ]
  },
  {
   "cell_type": "code",
   "execution_count": null,
   "id": "f9be5671",
   "metadata": {},
   "outputs": [
    {
     "name": "stdout",
     "output_type": "stream",
     "text": [
      "loading Roboflow workspace...\n",
      "loading Roboflow project...\n"
     ]
    }
   ],
   "source": [
    "from roboflow import Roboflow\n",
    "rf = Roboflow(api_key=\"odLlNaXJdvCmw7EvgYzR\")\n",
    "project = rf.workspace(\"objet-detect-yolov5\").project(\"datasets/eep_detection-u9bbd\")\n",
    "version = project.version(1)\n",
    "dataset = version.download(\"yolov11\")      "
   ]
  },
  {
   "cell_type": "code",
   "execution_count": 6,
   "id": "9b5cd5b6",
   "metadata": {},
   "outputs": [],
   "source": [
    "import ultralytics"
   ]
  }
 ],
 "metadata": {
  "kernelspec": {
   "display_name": "Python 3",
   "language": "python",
   "name": "python3"
  },
  "language_info": {
   "codemirror_mode": {
    "name": "ipython",
    "version": 3
   },
   "file_extension": ".py",
   "mimetype": "text/x-python",
   "name": "python",
   "nbconvert_exporter": "python",
   "pygments_lexer": "ipython3",
   "version": "3.13.5"
  }
 },
 "nbformat": 4,
 "nbformat_minor": 5
}
